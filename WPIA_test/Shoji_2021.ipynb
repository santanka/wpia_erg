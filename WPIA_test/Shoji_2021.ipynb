{
 "cells": [
  {
   "cell_type": "markdown",
   "id": "095c3fda",
   "metadata": {},
   "source": [
    "Test"
   ]
  },
  {
   "cell_type": "code",
   "execution_count": 6,
   "id": "fba5e003",
   "metadata": {},
   "outputs": [],
   "source": [
    "from pyspedas.erg import orb, mgf, lepi, pwe_efd\n",
    "from pyspedas import data_quants, store_data, tplot_names\n",
    "from stpp_tplot import sd, op, mp"
   ]
  },
  {
   "cell_type": "code",
   "execution_count": 7,
   "id": "827cf2f3",
   "metadata": {},
   "outputs": [
    {
     "name": "stderr",
     "output_type": "stream",
     "text": [
      "20-Jun-25 14:49:37: Downloading remote index: https://ergsc.isee.nagoya-u.ac.jp/data/ergsc/satellite/erg/lepi/l2/3dflux/2017/11/\n",
      "20-Jun-25 14:49:38: File is current: erg_data/satellite/erg/lepi/l2/3dflux/2017/11/erg_lepi_l2_3dflux_20171115_v03_00.cdf\n",
      "20-Jun-25 14:49:58: Variable FPDU_Quality DEPEND_2 attribute FIDU_Channel has length 8, but corresponding data dimension has length 15. Removing attribute.\n",
      "20-Jun-25 14:50:01: Variable FHEDU_Quality DEPEND_2 attribute FIDU_Channel has length 8, but corresponding data dimension has length 15. Removing attribute.\n",
      "20-Jun-25 14:50:05: Variable FODU_Quality DEPEND_2 attribute FIDU_Channel has length 8, but corresponding data dimension has length 15. Removing attribute.\n",
      "20-Jun-25 14:50:07: store_data: Data array for variable erg_lepi_l2_3dflux_FPDU_Quality has 4 dimensions, but only 1 v_n keys plus time. Adding empty v_n keys.\n",
      "20-Jun-25 14:50:08: store_data: Data array for variable erg_lepi_l2_3dflux_FHEDU_Quality has 4 dimensions, but only 1 v_n keys plus time. Adding empty v_n keys.\n",
      "20-Jun-25 14:50:10: store_data: Data array for variable erg_lepi_l2_3dflux_FODU_Quality has 4 dimensions, but only 1 v_n keys plus time. Adding empty v_n keys.\n",
      "20-Jun-25 14:50:11: erg_lepi_l2_3dflux_FPDU copied to erg_lepi_l2_3dflux_FPDU_raw\n",
      "20-Jun-25 14:50:11: erg_lepi_l2_3dflux_FPDU_sub copied to erg_lepi_l2_3dflux_FPDU_sub_raw\n"
     ]
    },
    {
     "name": "stdout",
     "output_type": "stream",
     "text": [
      " \n",
      "**************************************************************************\n",
      "['Exploration of Energization and Radiation in Geospace (ERG) Low Energy Particle Ion (LEPi) Experiment 3D ion flux data']\n",
      "\n",
      "Information about ERG LEPi\n",
      "\n",
      "PI:  ['Kazushi Asamura']\n",
      "Affiliation:  ['ISAS, Jaxa']\n",
      "\n",
      "RoR of ERG project common: https://ergsc.isee.nagoya-u.ac.jp/data_info/rules_of_the_road.shtml.en\n",
      "RoR of LEPi L2: https://ergsc.isee.nagoya-u.ac.jp/mw/index.php/ErgSat/Lepi\n",
      "RoR of ERG/LEPi: https://ergsc.isee.nagoya-u.ac.jp/mw/index.php/ErgSat/Lepi#Rules_of_the_Road\n",
      "\n",
      "Contact: erg_lepi_info at isee.nagoya-u.ac.jp\n",
      "**************************************************************************\n"
     ]
    },
    {
     "name": "stderr",
     "output_type": "stream",
     "text": [
      "20-Jun-25 14:50:11: erg_lepi_l2_3dflux_FHEDU copied to erg_lepi_l2_3dflux_FHEDU_raw\n",
      "20-Jun-25 14:50:11: erg_lepi_l2_3dflux_FHEDU_sub copied to erg_lepi_l2_3dflux_FHEDU_sub_raw\n",
      "20-Jun-25 14:50:11: erg_lepi_l2_3dflux_FODU copied to erg_lepi_l2_3dflux_FODU_raw\n",
      "20-Jun-25 14:50:11: erg_lepi_l2_3dflux_FODU_sub copied to erg_lepi_l2_3dflux_FODU_sub_raw\n",
      "20-Jun-25 14:50:11: erg_lepi_l2_3dflux_FPEDU copied to erg_lepi_l2_3dflux_FPEDU_raw\n",
      "20-Jun-25 14:50:11: erg_lepi_l2_3dflux_FPEDU_sub copied to erg_lepi_l2_3dflux_FPEDU_sub_raw\n",
      "20-Jun-25 14:50:11: erg_lepi_l2_3dflux_FHEEDU copied to erg_lepi_l2_3dflux_FHEEDU_raw\n",
      "20-Jun-25 14:50:11: erg_lepi_l2_3dflux_FHEEDU_sub copied to erg_lepi_l2_3dflux_FHEEDU_sub_raw\n",
      "20-Jun-25 14:50:12: erg_lepi_l2_3dflux_FOEDU copied to erg_lepi_l2_3dflux_FOEDU_raw\n",
      "20-Jun-25 14:50:12: erg_lepi_l2_3dflux_FOEDU_sub copied to erg_lepi_l2_3dflux_FOEDU_sub_raw\n",
      "20-Jun-25 14:50:12: erg_lepi_l2_3dflux_FPDU_COUNT_RAW copied to erg_lepi_l2_3dflux_FPDU_COUNT_RAW_raw\n",
      "20-Jun-25 14:50:12: erg_lepi_l2_3dflux_FPDU_COUNT_RAW_sub copied to erg_lepi_l2_3dflux_FPDU_COUNT_RAW_sub_raw\n",
      "20-Jun-25 14:50:12: erg_lepi_l2_3dflux_FHEDU_COUNT_RAW copied to erg_lepi_l2_3dflux_FHEDU_COUNT_RAW_raw\n",
      "20-Jun-25 14:50:12: erg_lepi_l2_3dflux_FHEDU_COUNT_RAW_sub copied to erg_lepi_l2_3dflux_FHEDU_COUNT_RAW_sub_raw\n",
      "20-Jun-25 14:50:12: erg_lepi_l2_3dflux_FODU_COUNT_RAW copied to erg_lepi_l2_3dflux_FODU_COUNT_RAW_raw\n",
      "20-Jun-25 14:50:12: erg_lepi_l2_3dflux_FODU_COUNT_RAW_sub copied to erg_lepi_l2_3dflux_FODU_COUNT_RAW_sub_raw\n"
     ]
    },
    {
     "data": {
      "text/plain": [
       "['erg_lepi_l2_3dflux_Epoch',\n",
       " 'erg_lepi_l2_3dflux_FPDU',\n",
       " 'erg_lepi_l2_3dflux_FPDU_sub',\n",
       " 'erg_lepi_l2_3dflux_FPEDU',\n",
       " 'erg_lepi_l2_3dflux_FPEDU_sub',\n",
       " 'erg_lepi_l2_3dflux_FPDU_COUNT_RAW',\n",
       " 'erg_lepi_l2_3dflux_FPDU_COUNT_RAW_sub',\n",
       " 'erg_lepi_l2_3dflux_FPDU_Quality',\n",
       " 'erg_lepi_l2_3dflux_FHEDU',\n",
       " 'erg_lepi_l2_3dflux_FHEDU_sub',\n",
       " 'erg_lepi_l2_3dflux_FHEEDU',\n",
       " 'erg_lepi_l2_3dflux_FHEEDU_sub',\n",
       " 'erg_lepi_l2_3dflux_FHEDU_COUNT_RAW',\n",
       " 'erg_lepi_l2_3dflux_FHEDU_COUNT_RAW_sub',\n",
       " 'erg_lepi_l2_3dflux_FHEDU_Quality',\n",
       " 'erg_lepi_l2_3dflux_FODU',\n",
       " 'erg_lepi_l2_3dflux_FODU_sub',\n",
       " 'erg_lepi_l2_3dflux_FOEDU',\n",
       " 'erg_lepi_l2_3dflux_FOEDU_sub',\n",
       " 'erg_lepi_l2_3dflux_FODU_COUNT_RAW',\n",
       " 'erg_lepi_l2_3dflux_FODU_COUNT_RAW_sub',\n",
       " 'erg_lepi_l2_3dflux_FODU_Quality']"
      ]
     },
     "execution_count": 7,
     "metadata": {},
     "output_type": "execute_result"
    }
   ],
   "source": [
    "tr = ['2017-11-15', '2017-11-16']\n",
    "lepi(tr, level='l2', datatype='3dflux')"
   ]
  },
  {
   "cell_type": "code",
   "execution_count": 4,
   "id": "ad96e0c7",
   "metadata": {},
   "outputs": [
    {
     "name": "stderr",
     "output_type": "stream",
     "text": [
      "20-Jun-25 14:48:13: Downloading remote index: https://ergsc.isee.nagoya-u.ac.jp/data/ergsc/satellite/erg/mgf/l2/64hz/2017/11/\n",
      "20-Jun-25 14:48:17: Downloading https://ergsc.isee.nagoya-u.ac.jp/data/ergsc/satellite/erg/mgf/l2/64hz/2017/11/erg_mgf_l2_64hz_dsi_2017111500_v03.05.cdf to erg_data/satellite/erg/mgf/l2/64hz/2017/11/erg_mgf_l2_64hz_dsi_2017111500_v03.05.cdf\n",
      "20-Jun-25 14:48:18: Download complete: erg_data/satellite/erg/mgf/l2/64hz/2017/11/erg_mgf_l2_64hz_dsi_2017111500_v03.05.cdf\n",
      "20-Jun-25 14:48:18: Downloading https://ergsc.isee.nagoya-u.ac.jp/data/ergsc/satellite/erg/mgf/l2/64hz/2017/11/erg_mgf_l2_64hz_dsi_2017111501_v03.05.cdf to erg_data/satellite/erg/mgf/l2/64hz/2017/11/erg_mgf_l2_64hz_dsi_2017111501_v03.05.cdf\n",
      "20-Jun-25 14:48:19: Download complete: erg_data/satellite/erg/mgf/l2/64hz/2017/11/erg_mgf_l2_64hz_dsi_2017111501_v03.05.cdf\n",
      "20-Jun-25 14:48:19: Downloading https://ergsc.isee.nagoya-u.ac.jp/data/ergsc/satellite/erg/mgf/l2/64hz/2017/11/erg_mgf_l2_64hz_dsi_2017111502_v03.05.cdf to erg_data/satellite/erg/mgf/l2/64hz/2017/11/erg_mgf_l2_64hz_dsi_2017111502_v03.05.cdf\n",
      "20-Jun-25 14:48:20: Download complete: erg_data/satellite/erg/mgf/l2/64hz/2017/11/erg_mgf_l2_64hz_dsi_2017111502_v03.05.cdf\n",
      "20-Jun-25 14:48:20: Downloading https://ergsc.isee.nagoya-u.ac.jp/data/ergsc/satellite/erg/mgf/l2/64hz/2017/11/erg_mgf_l2_64hz_dsi_2017111503_v03.05.cdf to erg_data/satellite/erg/mgf/l2/64hz/2017/11/erg_mgf_l2_64hz_dsi_2017111503_v03.05.cdf\n",
      "20-Jun-25 14:48:21: Download complete: erg_data/satellite/erg/mgf/l2/64hz/2017/11/erg_mgf_l2_64hz_dsi_2017111503_v03.05.cdf\n",
      "20-Jun-25 14:48:21: Downloading https://ergsc.isee.nagoya-u.ac.jp/data/ergsc/satellite/erg/mgf/l2/64hz/2017/11/erg_mgf_l2_64hz_dsi_2017111504_v03.05.cdf to erg_data/satellite/erg/mgf/l2/64hz/2017/11/erg_mgf_l2_64hz_dsi_2017111504_v03.05.cdf\n",
      "20-Jun-25 14:48:22: Download complete: erg_data/satellite/erg/mgf/l2/64hz/2017/11/erg_mgf_l2_64hz_dsi_2017111504_v03.05.cdf\n",
      "20-Jun-25 14:48:22: Downloading https://ergsc.isee.nagoya-u.ac.jp/data/ergsc/satellite/erg/mgf/l2/64hz/2017/11/erg_mgf_l2_64hz_dsi_2017111505_v03.05.cdf to erg_data/satellite/erg/mgf/l2/64hz/2017/11/erg_mgf_l2_64hz_dsi_2017111505_v03.05.cdf\n",
      "20-Jun-25 14:48:23: Download complete: erg_data/satellite/erg/mgf/l2/64hz/2017/11/erg_mgf_l2_64hz_dsi_2017111505_v03.05.cdf\n",
      "20-Jun-25 14:48:23: Downloading https://ergsc.isee.nagoya-u.ac.jp/data/ergsc/satellite/erg/mgf/l2/64hz/2017/11/erg_mgf_l2_64hz_dsi_2017111506_v03.05.cdf to erg_data/satellite/erg/mgf/l2/64hz/2017/11/erg_mgf_l2_64hz_dsi_2017111506_v03.05.cdf\n",
      "20-Jun-25 14:48:24: Download complete: erg_data/satellite/erg/mgf/l2/64hz/2017/11/erg_mgf_l2_64hz_dsi_2017111506_v03.05.cdf\n",
      "20-Jun-25 14:48:24: Downloading https://ergsc.isee.nagoya-u.ac.jp/data/ergsc/satellite/erg/mgf/l2/64hz/2017/11/erg_mgf_l2_64hz_dsi_2017111507_v03.05.cdf to erg_data/satellite/erg/mgf/l2/64hz/2017/11/erg_mgf_l2_64hz_dsi_2017111507_v03.05.cdf\n",
      "20-Jun-25 14:48:25: Download complete: erg_data/satellite/erg/mgf/l2/64hz/2017/11/erg_mgf_l2_64hz_dsi_2017111507_v03.05.cdf\n",
      "20-Jun-25 14:48:26: Downloading https://ergsc.isee.nagoya-u.ac.jp/data/ergsc/satellite/erg/mgf/l2/64hz/2017/11/erg_mgf_l2_64hz_dsi_2017111508_v03.05.cdf to erg_data/satellite/erg/mgf/l2/64hz/2017/11/erg_mgf_l2_64hz_dsi_2017111508_v03.05.cdf\n",
      "20-Jun-25 14:48:26: Download complete: erg_data/satellite/erg/mgf/l2/64hz/2017/11/erg_mgf_l2_64hz_dsi_2017111508_v03.05.cdf\n",
      "20-Jun-25 14:48:27: Downloading https://ergsc.isee.nagoya-u.ac.jp/data/ergsc/satellite/erg/mgf/l2/64hz/2017/11/erg_mgf_l2_64hz_dsi_2017111509_v03.05.cdf to erg_data/satellite/erg/mgf/l2/64hz/2017/11/erg_mgf_l2_64hz_dsi_2017111509_v03.05.cdf\n",
      "20-Jun-25 14:48:28: Download complete: erg_data/satellite/erg/mgf/l2/64hz/2017/11/erg_mgf_l2_64hz_dsi_2017111509_v03.05.cdf\n",
      "20-Jun-25 14:48:28: Downloading https://ergsc.isee.nagoya-u.ac.jp/data/ergsc/satellite/erg/mgf/l2/64hz/2017/11/erg_mgf_l2_64hz_dsi_2017111510_v03.05.cdf to erg_data/satellite/erg/mgf/l2/64hz/2017/11/erg_mgf_l2_64hz_dsi_2017111510_v03.05.cdf\n",
      "20-Jun-25 14:48:29: Download complete: erg_data/satellite/erg/mgf/l2/64hz/2017/11/erg_mgf_l2_64hz_dsi_2017111510_v03.05.cdf\n",
      "20-Jun-25 14:48:29: Downloading https://ergsc.isee.nagoya-u.ac.jp/data/ergsc/satellite/erg/mgf/l2/64hz/2017/11/erg_mgf_l2_64hz_dsi_2017111511_v03.05.cdf to erg_data/satellite/erg/mgf/l2/64hz/2017/11/erg_mgf_l2_64hz_dsi_2017111511_v03.05.cdf\n",
      "20-Jun-25 14:48:30: Download complete: erg_data/satellite/erg/mgf/l2/64hz/2017/11/erg_mgf_l2_64hz_dsi_2017111511_v03.05.cdf\n",
      "20-Jun-25 14:48:30: Downloading https://ergsc.isee.nagoya-u.ac.jp/data/ergsc/satellite/erg/mgf/l2/64hz/2017/11/erg_mgf_l2_64hz_dsi_2017111512_v03.05.cdf to erg_data/satellite/erg/mgf/l2/64hz/2017/11/erg_mgf_l2_64hz_dsi_2017111512_v03.05.cdf\n",
      "20-Jun-25 14:48:31: Download complete: erg_data/satellite/erg/mgf/l2/64hz/2017/11/erg_mgf_l2_64hz_dsi_2017111512_v03.05.cdf\n",
      "20-Jun-25 14:48:31: Downloading https://ergsc.isee.nagoya-u.ac.jp/data/ergsc/satellite/erg/mgf/l2/64hz/2017/11/erg_mgf_l2_64hz_dsi_2017111513_v03.05.cdf to erg_data/satellite/erg/mgf/l2/64hz/2017/11/erg_mgf_l2_64hz_dsi_2017111513_v03.05.cdf\n",
      "20-Jun-25 14:48:32: Download complete: erg_data/satellite/erg/mgf/l2/64hz/2017/11/erg_mgf_l2_64hz_dsi_2017111513_v03.05.cdf\n",
      "20-Jun-25 14:48:32: Downloading https://ergsc.isee.nagoya-u.ac.jp/data/ergsc/satellite/erg/mgf/l2/64hz/2017/11/erg_mgf_l2_64hz_dsi_2017111514_v03.05.cdf to erg_data/satellite/erg/mgf/l2/64hz/2017/11/erg_mgf_l2_64hz_dsi_2017111514_v03.05.cdf\n",
      "20-Jun-25 14:48:33: Download complete: erg_data/satellite/erg/mgf/l2/64hz/2017/11/erg_mgf_l2_64hz_dsi_2017111514_v03.05.cdf\n",
      "20-Jun-25 14:48:33: Downloading https://ergsc.isee.nagoya-u.ac.jp/data/ergsc/satellite/erg/mgf/l2/64hz/2017/11/erg_mgf_l2_64hz_dsi_2017111515_v03.05.cdf to erg_data/satellite/erg/mgf/l2/64hz/2017/11/erg_mgf_l2_64hz_dsi_2017111515_v03.05.cdf\n",
      "20-Jun-25 14:48:34: Download complete: erg_data/satellite/erg/mgf/l2/64hz/2017/11/erg_mgf_l2_64hz_dsi_2017111515_v03.05.cdf\n",
      "20-Jun-25 14:48:34: Downloading https://ergsc.isee.nagoya-u.ac.jp/data/ergsc/satellite/erg/mgf/l2/64hz/2017/11/erg_mgf_l2_64hz_dsi_2017111516_v03.05.cdf to erg_data/satellite/erg/mgf/l2/64hz/2017/11/erg_mgf_l2_64hz_dsi_2017111516_v03.05.cdf\n",
      "20-Jun-25 14:48:35: Download complete: erg_data/satellite/erg/mgf/l2/64hz/2017/11/erg_mgf_l2_64hz_dsi_2017111516_v03.05.cdf\n",
      "20-Jun-25 14:48:36: Downloading https://ergsc.isee.nagoya-u.ac.jp/data/ergsc/satellite/erg/mgf/l2/64hz/2017/11/erg_mgf_l2_64hz_dsi_2017111517_v03.05.cdf to erg_data/satellite/erg/mgf/l2/64hz/2017/11/erg_mgf_l2_64hz_dsi_2017111517_v03.05.cdf\n",
      "20-Jun-25 14:48:36: Download complete: erg_data/satellite/erg/mgf/l2/64hz/2017/11/erg_mgf_l2_64hz_dsi_2017111517_v03.05.cdf\n",
      "20-Jun-25 14:48:37: Downloading https://ergsc.isee.nagoya-u.ac.jp/data/ergsc/satellite/erg/mgf/l2/64hz/2017/11/erg_mgf_l2_64hz_dsi_2017111518_v03.05.cdf to erg_data/satellite/erg/mgf/l2/64hz/2017/11/erg_mgf_l2_64hz_dsi_2017111518_v03.05.cdf\n",
      "20-Jun-25 14:48:37: Download complete: erg_data/satellite/erg/mgf/l2/64hz/2017/11/erg_mgf_l2_64hz_dsi_2017111518_v03.05.cdf\n",
      "20-Jun-25 14:48:38: Downloading https://ergsc.isee.nagoya-u.ac.jp/data/ergsc/satellite/erg/mgf/l2/64hz/2017/11/erg_mgf_l2_64hz_dsi_2017111519_v03.05.cdf to erg_data/satellite/erg/mgf/l2/64hz/2017/11/erg_mgf_l2_64hz_dsi_2017111519_v03.05.cdf\n",
      "20-Jun-25 14:48:39: Download complete: erg_data/satellite/erg/mgf/l2/64hz/2017/11/erg_mgf_l2_64hz_dsi_2017111519_v03.05.cdf\n",
      "20-Jun-25 14:48:39: Downloading https://ergsc.isee.nagoya-u.ac.jp/data/ergsc/satellite/erg/mgf/l2/64hz/2017/11/erg_mgf_l2_64hz_dsi_2017111520_v03.05.cdf to erg_data/satellite/erg/mgf/l2/64hz/2017/11/erg_mgf_l2_64hz_dsi_2017111520_v03.05.cdf\n",
      "20-Jun-25 14:48:40: Download complete: erg_data/satellite/erg/mgf/l2/64hz/2017/11/erg_mgf_l2_64hz_dsi_2017111520_v03.05.cdf\n",
      "20-Jun-25 14:48:40: Downloading https://ergsc.isee.nagoya-u.ac.jp/data/ergsc/satellite/erg/mgf/l2/64hz/2017/11/erg_mgf_l2_64hz_dsi_2017111521_v03.05.cdf to erg_data/satellite/erg/mgf/l2/64hz/2017/11/erg_mgf_l2_64hz_dsi_2017111521_v03.05.cdf\n",
      "20-Jun-25 14:48:41: Download complete: erg_data/satellite/erg/mgf/l2/64hz/2017/11/erg_mgf_l2_64hz_dsi_2017111521_v03.05.cdf\n",
      "20-Jun-25 14:48:41: Downloading https://ergsc.isee.nagoya-u.ac.jp/data/ergsc/satellite/erg/mgf/l2/64hz/2017/11/erg_mgf_l2_64hz_dsi_2017111522_v03.05.cdf to erg_data/satellite/erg/mgf/l2/64hz/2017/11/erg_mgf_l2_64hz_dsi_2017111522_v03.05.cdf\n",
      "20-Jun-25 14:48:42: Download complete: erg_data/satellite/erg/mgf/l2/64hz/2017/11/erg_mgf_l2_64hz_dsi_2017111522_v03.05.cdf\n",
      "20-Jun-25 14:48:42: Downloading https://ergsc.isee.nagoya-u.ac.jp/data/ergsc/satellite/erg/mgf/l2/64hz/2017/11/erg_mgf_l2_64hz_dsi_2017111523_v03.05.cdf to erg_data/satellite/erg/mgf/l2/64hz/2017/11/erg_mgf_l2_64hz_dsi_2017111523_v03.05.cdf\n",
      "20-Jun-25 14:48:43: Download complete: erg_data/satellite/erg/mgf/l2/64hz/2017/11/erg_mgf_l2_64hz_dsi_2017111523_v03.05.cdf\n"
     ]
    },
    {
     "name": "stdout",
     "output_type": "stream",
     "text": [
      " \n",
      "**************************************************************************\n",
      "['Exploration of Energization and Radiation in Geospace (ERG) Magnetic Field Experiment (MGF) Level 2 64 Hz resolution magnetic field data']\n",
      "\n",
      "Information about ERG MGF\n",
      "\n",
      "PI:  ['Ayako Matsuoka']\n",
      "Affiliation:  ['Data Analysis Center for Geomagnetism and Space Magnetism, Graduate School of Science, Kyoto University, Kitashirakawa-Oiwake Cho, Sakyo-ku Kyoto 606-8502, Japan']\n",
      "\n",
      "RoR of ERG project common: https://ergsc.isee.nagoya-u.ac.jp/data_info/rules_of_the_road.shtml.en\n",
      "RoR of MGF L2: https://ergsc.isee.nagoya-u.ac.jp/mw/index.php/ErgSat/Mgf\n",
      "Contact: erg_mgf_info at isee.nagoya-u.ac.jp\n",
      "**************************************************************************\n"
     ]
    },
    {
     "data": {
      "text/plain": [
       "['erg_mgf_l2_epoch_64hz',\n",
       " 'erg_mgf_l2_date_time_64hz',\n",
       " 'erg_mgf_l2_mag_64hz_dsi',\n",
       " 'erg_mgf_l2_dyn_rng_64hz',\n",
       " 'erg_mgf_l2_quality_64hz',\n",
       " 'erg_mgf_l2_quality_64hz_gc',\n",
       " 'erg_mgf_l2_spin_phase_64hz',\n",
       " 'erg_mgf_l2_ti_64hz']"
      ]
     },
     "execution_count": 4,
     "metadata": {},
     "output_type": "execute_result"
    }
   ],
   "source": [
    "mgf(tr, level='l2', datatype='64hz')"
   ]
  },
  {
   "cell_type": "code",
   "execution_count": 8,
   "id": "cf8ef101",
   "metadata": {},
   "outputs": [
    {
     "name": "stderr",
     "output_type": "stream",
     "text": [
      "20-Jun-25 14:51:38: Downloading remote index: https://ergsc.isee.nagoya-u.ac.jp/data/ergsc/satellite/erg/pwe/efd/l2/E64Hz/2017/11/\n",
      "20-Jun-25 14:51:39: Downloading https://ergsc.isee.nagoya-u.ac.jp/data/ergsc/satellite/erg/pwe/efd/l2/E64Hz/2017/11/erg_pwe_efd_l2_E64Hz_dsi_20171115_v01_02.cdf to erg_data/satellite/erg/pwe/efd/l2/E64Hz/2017/11/erg_pwe_efd_l2_E64Hz_dsi_20171115_v01_02.cdf\n",
      "20-Jun-25 14:51:45: Download complete: erg_data/satellite/erg/pwe/efd/l2/E64Hz/2017/11/erg_pwe_efd_l2_E64Hz_dsi_20171115_v01_02.cdf\n"
     ]
    },
    {
     "name": "stdout",
     "output_type": "stream",
     "text": [
      " \n",
      " \n",
      "**************************************************************************\n",
      "['Exploration of Energization and Radiation in Geospace (ERG) Plasma Wave Experiment (PWE) Electric Field Detector (EFD) Level 2 waveform data in DSI Coordinate System']\n",
      "\n",
      "Information about ERG PWE EFD\n",
      "\n",
      "PI:  ['Yoshiya Kasahara']\n",
      "Affiliation:  ['Kanazawa University']\n",
      "\n",
      "RoR of ERG project common: https://ergsc.isee.nagoya-u.ac.jp/data_info/rules_of_the_road.shtml.en\n",
      "RoR of PWE/EFD: https://ergsc.isee.nagoya-u.ac.jp/mw/index.php/ErgSat/Pwe/Efd\n",
      "\n",
      "Contact: erg_pwe_info at isee.nagoya-u.ac.jp\n",
      "**************************************************************************\n"
     ]
    },
    {
     "data": {
      "text/plain": [
       "['erg_pwe_efd_l2_E64Hz_dsi_Epoch',\n",
       " 'erg_pwe_efd_l2_E64Hz_dsi_Ex_waveform',\n",
       " 'erg_pwe_efd_l2_E64Hz_dsi_Ey_waveform',\n",
       " 'erg_pwe_efd_l2_E64Hz_dsi_Eu_offset_64Hz',\n",
       " 'erg_pwe_efd_l2_E64Hz_dsi_Ev_offset_64Hz']"
      ]
     },
     "execution_count": 8,
     "metadata": {},
     "output_type": "execute_result"
    }
   ],
   "source": [
    "pwe_efd(tr, level='l2', datatype='64')"
   ]
  },
  {
   "cell_type": "code",
   "execution_count": 9,
   "id": "4ff2b280",
   "metadata": {},
   "outputs": [
    {
     "name": "stderr",
     "output_type": "stream",
     "text": [
      "20-Jun-25 14:52:35: Downloading remote index: https://ergsc.isee.nagoya-u.ac.jp/data/ergsc/satellite/erg/orb/def/2017/\n",
      "20-Jun-25 14:52:35: Downloading https://ergsc.isee.nagoya-u.ac.jp/data/ergsc/satellite/erg/orb/def/2017/erg_orb_l2_20171115_v04.cdf to erg_data/satellite/erg/orb/def/2017/erg_orb_l2_20171115_v04.cdf\n",
      "20-Jun-25 14:52:35: Download complete: erg_data/satellite/erg/orb/def/2017/erg_orb_l2_20171115_v04.cdf\n"
     ]
    },
    {
     "name": "stdout",
     "output_type": "stream",
     "text": [
      " \n",
      "**************************************************************************\n",
      "['Exploration of Energization and Radiation in Geospace (ERG) Level-2 orbit data']\n",
      "\n",
      "Information about ERG orbit\n",
      "\n",
      "\n",
      "RoR of ERG project common: https://ergsc.isee.nagoya-u.ac.jp/data_info/rules_of_the_road.shtml.en\n",
      "\n",
      "Contact: erg-sc-core at isee.nagoya-u.ac.jp\n",
      "**************************************************************************\n"
     ]
    },
    {
     "data": {
      "text/plain": [
       "['erg_orb_l2_pos_llr',\n",
       " 'erg_orb_l2_pos_gse',\n",
       " 'erg_orb_l2_pos_gsm',\n",
       " 'erg_orb_l2_pos_sm',\n",
       " 'erg_orb_l2_pos_rmlatmlt',\n",
       " 'erg_orb_l2_pos_eq',\n",
       " 'erg_orb_l2_pos_iono_north',\n",
       " 'erg_orb_l2_pos_iono_south',\n",
       " 'erg_orb_l2_pos_blocal',\n",
       " 'erg_orb_l2_pos_blocal_mag',\n",
       " 'erg_orb_l2_pos_beq',\n",
       " 'erg_orb_l2_pos_beq_mag',\n",
       " 'erg_orb_l2_pos_Lm',\n",
       " 'erg_orb_l2_vel_gse',\n",
       " 'erg_orb_l2_vel_gsm',\n",
       " 'erg_orb_l2_vel_sm',\n",
       " 'erg_orb_l2_spn_num',\n",
       " 'erg_orb_l2_man_prep_flag',\n",
       " 'erg_orb_l2_man_on_flag',\n",
       " 'erg_orb_l2_eclipse_flag']"
      ]
     },
     "execution_count": 9,
     "metadata": {},
     "output_type": "execute_result"
    }
   ],
   "source": [
    "orb(tr, level='l2', datatype='def')"
   ]
  },
  {
   "cell_type": "code",
   "execution_count": 11,
   "id": "7ec60b90",
   "metadata": {},
   "outputs": [
    {
     "name": "stderr",
     "output_type": "stream",
     "text": [
      "20-Jun-25 14:54:24: /home/santanka/program_codes/wpia_erg/venv_pyspedas/lib/python3.12/site-packages/ergpyspedas/erg/satellite/erg/particle/erg_pgs_make_theta_spec.py:4: DeprecationWarning: Please import `shift` from the `scipy.ndimage` namespace; the `scipy.ndimage.interpolation` namespace is deprecated and will be removed in SciPy 2.0.0.\n",
      "  from scipy.ndimage.interpolation import shift\n",
      "\n",
      "20-Jun-25 14:54:24: /home/santanka/program_codes/wpia_erg/venv_pyspedas/lib/python3.12/site-packages/ergpyspedas/erg/satellite/erg/particle/erg_pgs_make_phi_spec.py:4: DeprecationWarning: Please import `shift` from the `scipy.ndimage` namespace; the `scipy.ndimage.interpolation` namespace is deprecated and will be removed in SciPy 2.0.0.\n",
      "  from scipy.ndimage.interpolation import shift\n",
      "\n"
     ]
    }
   ],
   "source": [
    "import ergpyspedas              # import modules of the bleeding-edge of the ERG-SC plugin\n",
    "import pytplot                  # import modules of pyTplot for plotting\n",
    "from pytplot.tplot import tplot # shortcut for pytplot.tplot\n",
    "import matplotlib.pyplot as plt # imprt modules of Matplotlib for plotting\n"
   ]
  },
  {
   "cell_type": "code",
   "execution_count": 19,
   "id": "c1fb9682",
   "metadata": {},
   "outputs": [
    {
     "name": "stdout",
     "output_type": "stream",
     "text": [
      "0 : erg_lepi_l2_3dflux_Epoch\n",
      "1 : erg_lepi_l2_3dflux_FPDU\n",
      "2 : erg_lepi_l2_3dflux_FPDU_sub\n",
      "3 : erg_lepi_l2_3dflux_FPEDU\n",
      "4 : erg_lepi_l2_3dflux_FPEDU_sub\n",
      "5 : erg_lepi_l2_3dflux_FPDU_COUNT_RAW\n",
      "6 : erg_lepi_l2_3dflux_FPDU_COUNT_RAW_sub\n",
      "7 : erg_lepi_l2_3dflux_FPDU_Quality\n",
      "8 : erg_lepi_l2_3dflux_FHEDU\n",
      "9 : erg_lepi_l2_3dflux_FHEDU_sub\n",
      "10 : erg_lepi_l2_3dflux_FHEEDU\n",
      "11 : erg_lepi_l2_3dflux_FHEEDU_sub\n",
      "12 : erg_lepi_l2_3dflux_FHEDU_COUNT_RAW\n",
      "13 : erg_lepi_l2_3dflux_FHEDU_COUNT_RAW_sub\n",
      "14 : erg_lepi_l2_3dflux_FHEDU_Quality\n",
      "15 : erg_lepi_l2_3dflux_FODU\n",
      "16 : erg_lepi_l2_3dflux_FODU_sub\n",
      "17 : erg_lepi_l2_3dflux_FOEDU\n",
      "18 : erg_lepi_l2_3dflux_FOEDU_sub\n",
      "19 : erg_lepi_l2_3dflux_FODU_COUNT_RAW\n",
      "20 : erg_lepi_l2_3dflux_FODU_COUNT_RAW_sub\n",
      "21 : erg_lepi_l2_3dflux_FODU_Quality\n",
      "22 : erg_lepi_l2_3dflux_FPDU_raw\n",
      "23 : erg_lepi_l2_3dflux_FPDU_sub_raw\n",
      "24 : erg_lepi_l2_3dflux_FHEDU_raw\n",
      "25 : erg_lepi_l2_3dflux_FHEDU_sub_raw\n",
      "26 : erg_lepi_l2_3dflux_FODU_raw\n",
      "27 : erg_lepi_l2_3dflux_FODU_sub_raw\n",
      "28 : erg_lepi_l2_3dflux_FPEDU_raw\n",
      "29 : erg_lepi_l2_3dflux_FPEDU_sub_raw\n",
      "30 : erg_lepi_l2_3dflux_FHEEDU_raw\n",
      "31 : erg_lepi_l2_3dflux_FHEEDU_sub_raw\n",
      "32 : erg_lepi_l2_3dflux_FOEDU_raw\n",
      "33 : erg_lepi_l2_3dflux_FOEDU_sub_raw\n",
      "34 : erg_lepi_l2_3dflux_FPDU_COUNT_RAW_raw\n",
      "35 : erg_lepi_l2_3dflux_FPDU_COUNT_RAW_sub_raw\n",
      "36 : erg_lepi_l2_3dflux_FHEDU_COUNT_RAW_raw\n",
      "37 : erg_lepi_l2_3dflux_FHEDU_COUNT_RAW_sub_raw\n",
      "38 : erg_lepi_l2_3dflux_FODU_COUNT_RAW_raw\n",
      "39 : erg_lepi_l2_3dflux_FODU_COUNT_RAW_sub_raw\n",
      "40 : erg_mgf_l2_epoch_64hz\n",
      "41 : erg_mgf_l2_date_time_64hz\n",
      "42 : erg_mgf_l2_mag_64hz_dsi\n",
      "43 : erg_mgf_l2_dyn_rng_64hz\n",
      "44 : erg_mgf_l2_quality_64hz\n",
      "45 : erg_mgf_l2_quality_64hz_gc\n",
      "46 : erg_mgf_l2_spin_phase_64hz\n",
      "47 : erg_mgf_l2_ti_64hz\n",
      "48 : erg_pwe_efd_l2_E64Hz_dsi_Epoch\n",
      "49 : erg_pwe_efd_l2_E64Hz_dsi_Ex_waveform\n",
      "50 : erg_pwe_efd_l2_E64Hz_dsi_Ey_waveform\n",
      "51 : erg_pwe_efd_l2_E64Hz_dsi_Eu_offset_64Hz\n",
      "52 : erg_pwe_efd_l2_E64Hz_dsi_Ev_offset_64Hz\n",
      "53 : erg_orb_l2_pos_llr\n",
      "54 : erg_orb_l2_pos_gse\n",
      "55 : erg_orb_l2_pos_gsm\n",
      "56 : erg_orb_l2_pos_sm\n",
      "57 : erg_orb_l2_pos_rmlatmlt\n",
      "58 : erg_orb_l2_pos_eq\n",
      "59 : erg_orb_l2_pos_iono_north\n",
      "60 : erg_orb_l2_pos_iono_south\n",
      "61 : erg_orb_l2_pos_blocal\n",
      "62 : erg_orb_l2_pos_blocal_mag\n",
      "63 : erg_orb_l2_pos_beq\n",
      "64 : erg_orb_l2_pos_beq_mag\n",
      "65 : erg_orb_l2_pos_Lm\n",
      "66 : erg_orb_l2_vel_gse\n",
      "67 : erg_orb_l2_vel_gsm\n",
      "68 : erg_orb_l2_vel_sm\n",
      "69 : erg_orb_l2_spn_num\n",
      "70 : erg_orb_l2_man_prep_flag\n",
      "71 : erg_orb_l2_man_on_flag\n",
      "72 : erg_orb_l2_eclipse_flag\n"
     ]
    },
    {
     "data": {
      "image/png": "[encoded data removed]",
      "text/plain": [
       "<Figure size 1200x500 with 1 Axes>"
      ]
     },
     "metadata": {},
     "output_type": "display_data"
    }
   ],
   "source": [
    "pytplot.tplot_names()\n",
    "pytplot.timespan('2017-11-15/16:17:00',13,keyword='minutes')\n",
    "pytplot.options('erg_mgf_l2_mag_64hz_dsi', 'yrange', [-100, 300])\n",
    "tplot(['erg_mgf_l2_mag_64hz_dsi'])"
   ]
  },
  {
   "cell_type": "code",
   "execution_count": 25,
   "id": "77721cdf",
   "metadata": {},
   "outputs": [
    {
     "name": "stderr",
     "output_type": "stream",
     "text": [
      "20-Jun-25 15:37:07: Setting units for erg_mgf_l2_mag_64hz_dsi_x_dpwrspc\n",
      "20-Jun-25 15:37:29: Setting units for erg_mgf_l2_mag_64hz_dsi_y_dpwrspc\n",
      "20-Jun-25 15:37:51: Setting units for erg_mgf_l2_mag_64hz_dsi_z_dpwrspc\n"
     ]
    }
   ],
   "source": [
    "import pyspedas\n",
    "import ergpyspedas\n",
    "var_fft_mgf = pyspedas.tdpwrspc('erg_mgf_l2_mag_64hz_dsi', nboxpoints=256,nshiftpoints=64,bin=1)"
   ]
  }
 ],
 "metadata": {
  "kernelspec": {
   "display_name": "venv_pyspedas",
   "language": "python",
   "name": "python3"
  },
  "language_info": {
   "codemirror_mode": {
    "name": "ipython",
    "version": 3
   },
   "file_extension": ".py",
   "mimetype": "text/x-python",
   "name": "python",
   "nbconvert_exporter": "python",
   "pygments_lexer": "ipython3",
   "version": "3.12.2"
  }
 },
 "nbformat": 4,
 "nbformat_minor": 5
}
